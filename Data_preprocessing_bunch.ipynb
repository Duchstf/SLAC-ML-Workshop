{
 "cells": [
  {
   "cell_type": "markdown",
   "metadata": {},
   "source": [
    "# Bunch to Bunch Prediction Dataset Preprocessing\n",
    "**Motivation:**\n",
    "For this project, I thought it is appropriate to use CNN to to regresison. Thus, I will have a 50x40 (for 2000 particles in a bunch) 2D tensor holder with 6 channels (x,y,z,px,py,pz) and output 12k (2k * 6) results and then minimize the mean square error on this results. \n",
    "\n",
    "**New Input Data Format:** <br>\n",
    "\n",
    "Input file is shape (N,M,50,40)\n",
    "\n",
    "N - sample number, i.e. individual electron bunches <br>\n",
    "M - 0 -> 6 to access each dimension (x,y,z,px,py,pz respectively) <br>\n",
    "50x40 - size of the 2D tensor holder <br>\n"
   ]
  },
  {
   "cell_type": "code",
   "execution_count": 10,
   "metadata": {},
   "outputs": [],
   "source": [
    "import numpy as np\n",
    "import matplotlib.pyplot as plt\n",
    "%matplotlib inline"
   ]
  },
  {
   "cell_type": "code",
   "execution_count": 2,
   "metadata": {},
   "outputs": [],
   "source": [
    "# convenience for loading different data sets\n",
    "useset={'full':0,'subset':1,'downsample':2,'subset_downsample':3}\n",
    "namelist = [('positions','momenta'),('pos_ss','mom_ss'),('pos_ds','mom_ds'),('pos_ssds','mom_ssds')]"
   ]
  },
  {
   "cell_type": "code",
   "execution_count": 3,
   "metadata": {},
   "outputs": [],
   "source": [
    "#specify path to the data files\n",
    "path_files = '/Users/duc_hoang/Box Sync/Fermilab Summer Research/SLAC mini project/'\n",
    "\n",
    "# specify dataset to use and load\n",
    "# options are 'full', 'subset', 'downsample', and 'subset_downsample' as described above\n",
    "set_to_use = 'subset_downsample'\n",
    "\n",
    "IN_pos = np.load(path_files +'IN_'+ namelist[useset[set_to_use]][0] + '.npy')\n",
    "IN_mom = np.load(path_files +'IN_'+ namelist[useset[set_to_use]][1] + '.npy')\n",
    "OUT_pos = np.load(path_files +'OUT_'+ namelist[useset[set_to_use]][0] + '.npy')\n",
    "OUT_mom = np.load(path_files +'OUT_'+ namelist[useset[set_to_use]][1] +'.npy')"
   ]
  },
  {
   "cell_type": "code",
   "execution_count": 4,
   "metadata": {},
   "outputs": [],
   "source": [
    "#Concatenate position and momentum together \n",
    "IN_CNN = np.concatenate((IN_pos,IN_mom), axis = 1) #Output matrix shape = (_,6,_)"
   ]
  },
  {
   "cell_type": "code",
   "execution_count": 5,
   "metadata": {},
   "outputs": [
    {
     "name": "stdout",
     "output_type": "stream",
     "text": [
      "[[ True  True  True ...  True  True  True]\n",
      " [ True  True  True ...  True  True  True]\n",
      " [ True  True  True ...  True  True  True]\n",
      " ...\n",
      " [ True  True  True ...  True  True  True]\n",
      " [ True  True  True ...  True  True  True]\n",
      " [ True  True  True ...  True  True  True]]\n",
      "[[ True  True  True ...  True  True  True]\n",
      " [ True  True  True ...  True  True  True]\n",
      " [ True  True  True ...  True  True  True]\n",
      " ...\n",
      " [ True  True  True ...  True  True  True]\n",
      " [ True  True  True ...  True  True  True]\n",
      " [ True  True  True ...  True  True  True]]\n",
      "[[ True  True  True ...  True  True  True]\n",
      " [ True  True  True ...  True  True  True]\n",
      " [ True  True  True ...  True  True  True]\n",
      " ...\n",
      " [ True  True  True ...  True  True  True]\n",
      " [ True  True  True ...  True  True  True]\n",
      " [ True  True  True ...  True  True  True]]\n"
     ]
    }
   ],
   "source": [
    "#Check if dimensions are concatenated correctly\n",
    "print(IN_CNN[:,5,:] == IN_mom[:,2,:])\n",
    "print(IN_CNN[:,4,:] == IN_mom[:,1,:])\n",
    "print(IN_CNN[:,0,:] == IN_pos[:,0,:])"
   ]
  },
  {
   "cell_type": "code",
   "execution_count": 7,
   "metadata": {},
   "outputs": [],
   "source": [
    "#Reshape to final shape, which is (_,_,50,40)\n",
    "_IN_CNN = np.reshape(IN_CNN, (IN_CNN.shape[0],IN_CNN.shape[1], 50, 40))"
   ]
  },
  {
   "cell_type": "code",
   "execution_count": 39,
   "metadata": {},
   "outputs": [
    {
     "data": {
      "text/plain": [
       "<matplotlib.image.AxesImage at 0x213f99b70>"
      ]
     },
     "execution_count": 39,
     "metadata": {},
     "output_type": "execute_result"
    },
    {
     "data": {
      "image/png": "[encoded data removed]",
      "text/plain": [
       "<Figure size 432x288 with 1 Axes>"
      ]
     },
     "metadata": {
      "needs_background": "light"
     },
     "output_type": "display_data"
    }
   ],
   "source": [
    "plt.imshow(_IN_CNN[0][3][:][:])"
   ]
  },
  {
   "cell_type": "code",
   "execution_count": 24,
   "metadata": {},
   "outputs": [],
   "source": [
    "#Doesn't really make sense to human eyes but let's see if the neural net can detect it"
   ]
  },
  {
   "cell_type": "code",
   "execution_count": 32,
   "metadata": {
    "scrolled": true
   },
   "outputs": [
    {
     "data": {
      "text/plain": [
       "True"
      ]
     },
     "execution_count": 32,
     "metadata": {},
     "output_type": "execute_result"
    }
   ],
   "source": [
    "#Test\n",
    "_IN_CNN[14997][5][1][1] == IN_CNN[14997][5][41]"
   ]
  },
  {
   "cell_type": "code",
   "execution_count": 33,
   "metadata": {},
   "outputs": [],
   "source": [
    "#Export to a 'npy' file\n",
    "#np.save('IN_CNN.npy', _IN_CNN)"
   ]
  },
  {
   "cell_type": "code",
   "execution_count": 36,
   "metadata": {},
   "outputs": [],
   "source": [
    "#Now process the output which will have just 2 dimension (sample index, flattened data)\n",
    "OUT_CNN = np.concatenate((OUT_pos,OUT_mom), axis = 1)\n",
    "_OUT_CNN = np.reshape(OUT_CNN, (OUT_CNN.shape[0],OUT_CNN.shape[1]*OUT_CNN.shape[2]))"
   ]
  },
  {
   "cell_type": "code",
   "execution_count": 42,
   "metadata": {},
   "outputs": [],
   "source": [
    "#Export to a 'npy' file\n",
    "#np.save('OUT_CNN.npy', _OUT_CNN)"
   ]
  },
  {
   "cell_type": "code",
   "execution_count": 44,
   "metadata": {},
   "outputs": [],
   "source": [
    "test = np.load('IN_CNN.npy')"
   ]
  }
 ],
 "metadata": {
  "kernelspec": {
   "display_name": "Python 3",
   "language": "python",
   "name": "python3"
  },
  "language_info": {
   "codemirror_mode": {
    "name": "ipython",
    "version": 3
   },
   "file_extension": ".py",
   "mimetype": "text/x-python",
   "name": "python",
   "nbconvert_exporter": "python",
   "pygments_lexer": "ipython3",
   "version": "3.6.8"
  }
 },
 "nbformat": 4,
 "nbformat_minor": 2
}
